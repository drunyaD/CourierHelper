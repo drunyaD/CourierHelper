{
 "metadata": {
  "language_info": {
   "codemirror_mode": {
    "name": "ipython",
    "version": 3
   },
   "file_extension": ".py",
   "mimetype": "text/x-python",
   "name": "python",
   "nbconvert_exporter": "python",
   "pygments_lexer": "ipython3",
   "version": "3.9.4-final"
  },
  "orig_nbformat": 2,
  "kernelspec": {
   "name": "python394jvsc74a57bd0d1ec17996380f50aaa1cf76f0f39c315acd826dac652f0f3d53334e7a8f340bb",
   "display_name": "Python 3.9.4 64-bit"
  },
  "metadata": {
   "interpreter": {
    "hash": "d1ec17996380f50aaa1cf76f0f39c315acd826dac652f0f3d53334e7a8f340bb"
   }
  }
 },
 "nbformat": 4,
 "nbformat_minor": 2,
 "cells": [
  {
   "cell_type": "code",
   "execution_count": 20,
   "metadata": {},
   "outputs": [
    {
     "output_type": "display_data",
     "data": {
      "text/plain": "['1. 8 общежитие кпи',\n '',\n '',\n '',\n '2. метро кпи',\n '',\n '',\n '',\n '',\n '',\n '',\n '',\n '3. ахмадет киев',\n '',\n '',\n '',\n '',\n '',\n '',\n '',\n '',\n '4. атб кпи',\n '',\n '5. 18 корпус кпи',\n '',\n '',\n '',\n '',\n '',\n '',\n '',\n '6. киев жк кампус',\n '',\n '7. спорткомплекс кпи',\n '',\n '',\n '',\n '',\n '',\n '8. тц космополит киев',\n '',\n '',\n '',\n '',\n '',\n '9. киев макдональдз шулявская',\n '',\n '',\n '',\n '',\n '',\n '',\n '10. метро шулявская']"
     },
     "metadata": {}
    },
    {
     "output_type": "display_data",
     "data": {
      "application/vnd.plotly.v1+json": {
       "config": {
        "plotlyServerURL": "https://plot.ly"
       },
       "data": [
        {
         "lat": [
          50.4479749,
          50.4478683,
          50.44911880000001,
          50.45046120000001,
          50.45046120000001,
          50.4510274,
          50.44979319999999,
          50.449661,
          50.4499772,
          50.4498515,
          50.449568,
          50.4509109,
          50.4509109,
          50.449568,
          50.4498515,
          50.4499772,
          50.449661,
          50.44979319999999,
          50.4510274,
          50.44911880000001,
          50.4485767,
          50.4485767,
          50.4474222,
          50.4474222,
          50.4476418,
          50.4467294,
          50.4462766,
          50.4463342,
          50.44647740000001,
          50.4438743,
          50.4417026,
          50.4417026,
          50.4418848,
          50.4418848,
          50.4408306,
          50.4411199,
          50.4500114,
          50.4503049,
          50.4494328,
          50.4494328,
          50.4503049,
          50.4500114,
          50.4515097,
          50.4513358,
          50.452121,
          50.452121,
          50.4513358,
          50.4508017,
          50.45186830000001,
          50.453744,
          50.4539747,
          50.4548097,
          50.4546793
         ],
         "lon": [
          30.4518064,
          30.4531457,
          30.4660589,
          30.4665572,
          30.4665572,
          30.4667575,
          30.474321,
          30.47448809999999,
          30.474613,
          30.47474649999999,
          30.4764792,
          30.4769628,
          30.4769628,
          30.4764792,
          30.47474649999999,
          30.474613,
          30.47448809999999,
          30.474321,
          30.4667575,
          30.4660589,
          30.4644058,
          30.4644058,
          30.4567302,
          30.4567302,
          30.4549033,
          30.454409,
          30.454333,
          30.4546996,
          30.4530104,
          30.45135449999999,
          30.447946,
          30.447946,
          30.44866589999999,
          30.44866589999999,
          30.4444725,
          30.4438756,
          30.4440518,
          30.4422469,
          30.4419243,
          30.4419243,
          30.4422469,
          30.4440518,
          30.4446539,
          30.4455261,
          30.4458142,
          30.4458142,
          30.4455261,
          30.4488626,
          30.4493099,
          30.447966,
          30.4480517,
          30.4455928,
          30.4455277
         ],
         "marker": {
          "size": 10
         },
         "mode": "markers+text+lines",
         "text": [
          "1. 8 общежитие кпи",
          "",
          "",
          "",
          "2. метро кпи",
          "",
          "",
          "",
          "",
          "",
          "",
          "",
          "3. ахмадет киев",
          "",
          "",
          "",
          "",
          "",
          "",
          "",
          "",
          "4. атб кпи",
          "",
          "5. 18 корпус кпи",
          "",
          "",
          "",
          "",
          "",
          "",
          "",
          "6. киев жк кампус",
          "",
          "7. спорткомплекс кпи",
          "",
          "",
          "",
          "",
          "",
          "8. тц космополит киев",
          "",
          "",
          "",
          "",
          "",
          "9. киев макдональдз шулявская",
          "",
          "",
          "",
          "",
          "",
          "",
          "10. метро шулявская"
         ],
         "textfont": {
          "color": "black",
          "size": 16
         },
         "textposition": "bottom right",
         "type": "scattermapbox"
        }
       ],
       "layout": {
        "mapbox": {
         "accesstoken": "pk.eyJ1IjoiZHJ1bnlhc2hlbCIsImEiOiJja25uaDRkOTcwZWZuMm5sYWJmaDUzZ2F5In0.en5FWm3y_4R7auhLKcnNhQ",
         "center": {
          "lat": 50.4479749,
          "lon": 30.4518064
         },
         "style": "outdoors",
         "zoom": 13
        },
        "margin": {
         "b": 0,
         "l": 0,
         "r": 0,
         "t": 0
        },
        "template": {
         "data": {
          "bar": [
           {
            "error_x": {
             "color": "#2a3f5f"
            },
            "error_y": {
             "color": "#2a3f5f"
            },
            "marker": {
             "line": {
              "color": "#E5ECF6",
              "width": 0.5
             }
            },
            "type": "bar"
           }
          ],
          "barpolar": [
           {
            "marker": {
             "line": {
              "color": "#E5ECF6",
              "width": 0.5
             }
            },
            "type": "barpolar"
           }
          ],
          "carpet": [
           {
            "aaxis": {
             "endlinecolor": "#2a3f5f",
             "gridcolor": "white",
             "linecolor": "white",
             "minorgridcolor": "white",
             "startlinecolor": "#2a3f5f"
            },
            "baxis": {
             "endlinecolor": "#2a3f5f",
             "gridcolor": "white",
             "linecolor": "white",
             "minorgridcolor": "white",
             "startlinecolor": "#2a3f5f"
            },
            "type": "carpet"
           }
          ],
          "choropleth": [
           {
            "colorbar": {
             "outlinewidth": 0,
             "ticks": ""
            },
            "type": "choropleth"
           }
          ],
          "contour": [
           {
            "colorbar": {
             "outlinewidth": 0,
             "ticks": ""
            },
            "colorscale": [
             [
              0,
              "#0d0887"
             ],
             [
              0.1111111111111111,
              "#46039f"
             ],
             [
              0.2222222222222222,
              "#7201a8"
             ],
             [
              0.3333333333333333,
              "#9c179e"
             ],
             [
              0.4444444444444444,
              "#bd3786"
             ],
             [
              0.5555555555555556,
              "#d8576b"
             ],
             [
              0.6666666666666666,
              "#ed7953"
             ],
             [
              0.7777777777777778,
              "#fb9f3a"
             ],
             [
              0.8888888888888888,
              "#fdca26"
             ],
             [
              1,
              "#f0f921"
             ]
            ],
            "type": "contour"
           }
          ],
          "contourcarpet": [
           {
            "colorbar": {
             "outlinewidth": 0,
             "ticks": ""
            },
            "type": "contourcarpet"
           }
          ],
          "heatmap": [
           {
            "colorbar": {
             "outlinewidth": 0,
             "ticks": ""
            },
            "colorscale": [
             [
              0,
              "#0d0887"
             ],
             [
              0.1111111111111111,
              "#46039f"
             ],
             [
              0.2222222222222222,
              "#7201a8"
             ],
             [
              0.3333333333333333,
              "#9c179e"
             ],
             [
              0.4444444444444444,
              "#bd3786"
             ],
             [
              0.5555555555555556,
              "#d8576b"
             ],
             [
              0.6666666666666666,
              "#ed7953"
             ],
             [
              0.7777777777777778,
              "#fb9f3a"
             ],
             [
              0.8888888888888888,
              "#fdca26"
             ],
             [
              1,
              "#f0f921"
             ]
            ],
            "type": "heatmap"
           }
          ],
          "heatmapgl": [
           {
            "colorbar": {
             "outlinewidth": 0,
             "ticks": ""
            },
            "colorscale": [
             [
              0,
              "#0d0887"
             ],
             [
              0.1111111111111111,
              "#46039f"
             ],
             [
              0.2222222222222222,
              "#7201a8"
             ],
             [
              0.3333333333333333,
              "#9c179e"
             ],
             [
              0.4444444444444444,
              "#bd3786"
             ],
             [
              0.5555555555555556,
              "#d8576b"
             ],
             [
              0.6666666666666666,
              "#ed7953"
             ],
             [
              0.7777777777777778,
              "#fb9f3a"
             ],
             [
              0.8888888888888888,
              "#fdca26"
             ],
             [
              1,
              "#f0f921"
             ]
            ],
            "type": "heatmapgl"
           }
          ],
          "histogram": [
           {
            "marker": {
             "colorbar": {
              "outlinewidth": 0,
              "ticks": ""
             }
            },
            "type": "histogram"
           }
          ],
          "histogram2d": [
           {
            "colorbar": {
             "outlinewidth": 0,
             "ticks": ""
            },
            "colorscale": [
             [
              0,
              "#0d0887"
             ],
             [
              0.1111111111111111,
              "#46039f"
             ],
             [
              0.2222222222222222,
              "#7201a8"
             ],
             [
              0.3333333333333333,
              "#9c179e"
             ],
             [
              0.4444444444444444,
              "#bd3786"
             ],
             [
              0.5555555555555556,
              "#d8576b"
             ],
             [
              0.6666666666666666,
              "#ed7953"
             ],
             [
              0.7777777777777778,
              "#fb9f3a"
             ],
             [
              0.8888888888888888,
              "#fdca26"
             ],
             [
              1,
              "#f0f921"
             ]
            ],
            "type": "histogram2d"
           }
          ],
          "histogram2dcontour": [
           {
            "colorbar": {
             "outlinewidth": 0,
             "ticks": ""
            },
            "colorscale": [
             [
              0,
              "#0d0887"
             ],
             [
              0.1111111111111111,
              "#46039f"
             ],
             [
              0.2222222222222222,
              "#7201a8"
             ],
             [
              0.3333333333333333,
              "#9c179e"
             ],
             [
              0.4444444444444444,
              "#bd3786"
             ],
             [
              0.5555555555555556,
              "#d8576b"
             ],
             [
              0.6666666666666666,
              "#ed7953"
             ],
             [
              0.7777777777777778,
              "#fb9f3a"
             ],
             [
              0.8888888888888888,
              "#fdca26"
             ],
             [
              1,
              "#f0f921"
             ]
            ],
            "type": "histogram2dcontour"
           }
          ],
          "mesh3d": [
           {
            "colorbar": {
             "outlinewidth": 0,
             "ticks": ""
            },
            "type": "mesh3d"
           }
          ],
          "parcoords": [
           {
            "line": {
             "colorbar": {
              "outlinewidth": 0,
              "ticks": ""
             }
            },
            "type": "parcoords"
           }
          ],
          "pie": [
           {
            "automargin": true,
            "type": "pie"
           }
          ],
          "scatter": [
           {
            "marker": {
             "colorbar": {
              "outlinewidth": 0,
              "ticks": ""
             }
            },
            "type": "scatter"
           }
          ],
          "scatter3d": [
           {
            "line": {
             "colorbar": {
              "outlinewidth": 0,
              "ticks": ""
             }
            },
            "marker": {
             "colorbar": {
              "outlinewidth": 0,
              "ticks": ""
             }
            },
            "type": "scatter3d"
           }
          ],
          "scattercarpet": [
           {
            "marker": {
             "colorbar": {
              "outlinewidth": 0,
              "ticks": ""
             }
            },
            "type": "scattercarpet"
           }
          ],
          "scattergeo": [
           {
            "marker": {
             "colorbar": {
              "outlinewidth": 0,
              "ticks": ""
             }
            },
            "type": "scattergeo"
           }
          ],
          "scattergl": [
           {
            "marker": {
             "colorbar": {
              "outlinewidth": 0,
              "ticks": ""
             }
            },
            "type": "scattergl"
           }
          ],
          "scattermapbox": [
           {
            "marker": {
             "colorbar": {
              "outlinewidth": 0,
              "ticks": ""
             }
            },
            "type": "scattermapbox"
           }
          ],
          "scatterpolar": [
           {
            "marker": {
             "colorbar": {
              "outlinewidth": 0,
              "ticks": ""
             }
            },
            "type": "scatterpolar"
           }
          ],
          "scatterpolargl": [
           {
            "marker": {
             "colorbar": {
              "outlinewidth": 0,
              "ticks": ""
             }
            },
            "type": "scatterpolargl"
           }
          ],
          "scatterternary": [
           {
            "marker": {
             "colorbar": {
              "outlinewidth": 0,
              "ticks": ""
             }
            },
            "type": "scatterternary"
           }
          ],
          "surface": [
           {
            "colorbar": {
             "outlinewidth": 0,
             "ticks": ""
            },
            "colorscale": [
             [
              0,
              "#0d0887"
             ],
             [
              0.1111111111111111,
              "#46039f"
             ],
             [
              0.2222222222222222,
              "#7201a8"
             ],
             [
              0.3333333333333333,
              "#9c179e"
             ],
             [
              0.4444444444444444,
              "#bd3786"
             ],
             [
              0.5555555555555556,
              "#d8576b"
             ],
             [
              0.6666666666666666,
              "#ed7953"
             ],
             [
              0.7777777777777778,
              "#fb9f3a"
             ],
             [
              0.8888888888888888,
              "#fdca26"
             ],
             [
              1,
              "#f0f921"
             ]
            ],
            "type": "surface"
           }
          ],
          "table": [
           {
            "cells": {
             "fill": {
              "color": "#EBF0F8"
             },
             "line": {
              "color": "white"
             }
            },
            "header": {
             "fill": {
              "color": "#C8D4E3"
             },
             "line": {
              "color": "white"
             }
            },
            "type": "table"
           }
          ]
         },
         "layout": {
          "annotationdefaults": {
           "arrowcolor": "#2a3f5f",
           "arrowhead": 0,
           "arrowwidth": 1
          },
          "autotypenumbers": "strict",
          "coloraxis": {
           "colorbar": {
            "outlinewidth": 0,
            "ticks": ""
           }
          },
          "colorscale": {
           "diverging": [
            [
             0,
             "#8e0152"
            ],
            [
             0.1,
             "#c51b7d"
            ],
            [
             0.2,
             "#de77ae"
            ],
            [
             0.3,
             "#f1b6da"
            ],
            [
             0.4,
             "#fde0ef"
            ],
            [
             0.5,
             "#f7f7f7"
            ],
            [
             0.6,
             "#e6f5d0"
            ],
            [
             0.7,
             "#b8e186"
            ],
            [
             0.8,
             "#7fbc41"
            ],
            [
             0.9,
             "#4d9221"
            ],
            [
             1,
             "#276419"
            ]
           ],
           "sequential": [
            [
             0,
             "#0d0887"
            ],
            [
             0.1111111111111111,
             "#46039f"
            ],
            [
             0.2222222222222222,
             "#7201a8"
            ],
            [
             0.3333333333333333,
             "#9c179e"
            ],
            [
             0.4444444444444444,
             "#bd3786"
            ],
            [
             0.5555555555555556,
             "#d8576b"
            ],
            [
             0.6666666666666666,
             "#ed7953"
            ],
            [
             0.7777777777777778,
             "#fb9f3a"
            ],
            [
             0.8888888888888888,
             "#fdca26"
            ],
            [
             1,
             "#f0f921"
            ]
           ],
           "sequentialminus": [
            [
             0,
             "#0d0887"
            ],
            [
             0.1111111111111111,
             "#46039f"
            ],
            [
             0.2222222222222222,
             "#7201a8"
            ],
            [
             0.3333333333333333,
             "#9c179e"
            ],
            [
             0.4444444444444444,
             "#bd3786"
            ],
            [
             0.5555555555555556,
             "#d8576b"
            ],
            [
             0.6666666666666666,
             "#ed7953"
            ],
            [
             0.7777777777777778,
             "#fb9f3a"
            ],
            [
             0.8888888888888888,
             "#fdca26"
            ],
            [
             1,
             "#f0f921"
            ]
           ]
          },
          "colorway": [
           "#636efa",
           "#EF553B",
           "#00cc96",
           "#ab63fa",
           "#FFA15A",
           "#19d3f3",
           "#FF6692",
           "#B6E880",
           "#FF97FF",
           "#FECB52"
          ],
          "font": {
           "color": "#2a3f5f"
          },
          "geo": {
           "bgcolor": "white",
           "lakecolor": "white",
           "landcolor": "#E5ECF6",
           "showlakes": true,
           "showland": true,
           "subunitcolor": "white"
          },
          "hoverlabel": {
           "align": "left"
          },
          "hovermode": "closest",
          "mapbox": {
           "style": "light"
          },
          "paper_bgcolor": "white",
          "plot_bgcolor": "#E5ECF6",
          "polar": {
           "angularaxis": {
            "gridcolor": "white",
            "linecolor": "white",
            "ticks": ""
           },
           "bgcolor": "#E5ECF6",
           "radialaxis": {
            "gridcolor": "white",
            "linecolor": "white",
            "ticks": ""
           }
          },
          "scene": {
           "xaxis": {
            "backgroundcolor": "#E5ECF6",
            "gridcolor": "white",
            "gridwidth": 2,
            "linecolor": "white",
            "showbackground": true,
            "ticks": "",
            "zerolinecolor": "white"
           },
           "yaxis": {
            "backgroundcolor": "#E5ECF6",
            "gridcolor": "white",
            "gridwidth": 2,
            "linecolor": "white",
            "showbackground": true,
            "ticks": "",
            "zerolinecolor": "white"
           },
           "zaxis": {
            "backgroundcolor": "#E5ECF6",
            "gridcolor": "white",
            "gridwidth": 2,
            "linecolor": "white",
            "showbackground": true,
            "ticks": "",
            "zerolinecolor": "white"
           }
          },
          "shapedefaults": {
           "line": {
            "color": "#2a3f5f"
           }
          },
          "ternary": {
           "aaxis": {
            "gridcolor": "white",
            "linecolor": "white",
            "ticks": ""
           },
           "baxis": {
            "gridcolor": "white",
            "linecolor": "white",
            "ticks": ""
           },
           "bgcolor": "#E5ECF6",
           "caxis": {
            "gridcolor": "white",
            "linecolor": "white",
            "ticks": ""
           }
          },
          "title": {
           "x": 0.05
          },
          "xaxis": {
           "automargin": true,
           "gridcolor": "white",
           "linecolor": "white",
           "ticks": "",
           "title": {
            "standoff": 15
           },
           "zerolinecolor": "white",
           "zerolinewidth": 2
          },
          "yaxis": {
           "automargin": true,
           "gridcolor": "white",
           "linecolor": "white",
           "ticks": "",
           "title": {
            "standoff": 15
           },
           "zerolinecolor": "white",
           "zerolinewidth": 2
          }
         }
        }
       }
      }
     },
     "metadata": {}
    }
   ],
   "source": [
    "import tools\n",
    "import json\n",
    "\n",
    "search_array = [\n",
    "    '8 общежитие кпи',\n",
    "    'метро кпи',\n",
    "    'метро шулявская',\n",
    "    'спорткомплекс кпи',\n",
    "    'атб кпи',\n",
    "    'киев жк кампус',\n",
    "    '18 корпус кпи',\n",
    "    'тц космополит киев',\n",
    "    'киев макдональдз шулявская',\n",
    "    'ахмадет киев'\n",
    "]\n",
    "\n",
    "# getting location info with coordinates of waypoints \n",
    "#tools.record_location_info(search_array)\n",
    "location_infos = tools.get_recorded_location_infos()\n",
    "# getting optimized route\n",
    "#tools.record_optimized_route(location_infos)\n",
    "optimized_route = tools.get_recorded_optimized_route()\n",
    "\n",
    "import plotly.express as px\n",
    "import pandas as pd\n",
    "import plotly.graph_objects as go\n",
    "\n",
    "# constructing route with coordinates and addresses\n",
    "\n",
    "lons = []\n",
    "lats = []\n",
    "addresses = []\n",
    "segments = optimized_route['segments']\n",
    "for segmentId in range(len(segments)):\n",
    "    segment = segments[segmentId]\n",
    "    coordinates = segment['coordinates']\n",
    "    fromAddress = segment['fromAddress']\n",
    "    firstCoordinate = coordinates[0]\n",
    "    lons.append(firstCoordinate['longitude'])\n",
    "    lats.append(firstCoordinate['latitude'])\n",
    "    addresses.append(fromAddress)\n",
    "    for coordinateId in range(1, len(coordinates)):\n",
    "        coordinate = coordinates[coordinateId]\n",
    "        lons.append(coordinate['longitude'])\n",
    "        lats.append(coordinate['latitude'])\n",
    "        addresses.append('')\n",
    "\n",
    "addresses[len(addresses) - 1] = segments[len(segments) - 1]['toAddress']\n",
    "\n",
    "notEmptyAddressId = 1\n",
    "for addressId in range(len(addresses)):\n",
    "    address = addresses[addressId]\n",
    "    for locationId in range(len(location_infos)):\n",
    "        location = location_infos[locationId]\n",
    "        if (location['formattedAddress']) == address:\n",
    "            addresses[addressId] = str(notEmptyAddressId) + '. ' + search_array[locationId]\n",
    "            notEmptyAddressId += 1\n",
    "            break\n",
    "\n",
    "\n",
    "display(addresses)\n",
    "\n",
    "token = open(\".mapbox_token\").read()\n",
    "\n",
    "fig = go.Figure(go.Scattermapbox(\n",
    "    mode = \"markers+text+lines\",\n",
    "    lon = lons,\n",
    "    lat = lats,\n",
    "    text = addresses,\n",
    "    textfont=dict(size=16, color='black'),  \n",
    "    textposition=\"bottom right\",\n",
    "    marker = {'size': 10}))\n",
    "\n",
    "fig.update_layout(\n",
    "    margin={\"r\":0,\"t\":0,\"l\":0,\"b\":0},\n",
    "    mapbox = {\n",
    "        'accesstoken': token,\n",
    "        'center': {'lon': lons[0], 'lat': lats[0]},\n",
    "        'style': \"outdoors\",\n",
    "        'zoom': 13})\n",
    "\n",
    "\n",
    "fig.show()"
   ]
  },
  {
   "cell_type": "code",
   "execution_count": null,
   "metadata": {},
   "outputs": [],
   "source": []
  }
 ]
}