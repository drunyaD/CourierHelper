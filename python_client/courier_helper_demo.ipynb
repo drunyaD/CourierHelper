{
 "metadata": {
  "language_info": {
   "codemirror_mode": {
    "name": "ipython",
    "version": 3
   },
   "file_extension": ".py",
   "mimetype": "text/x-python",
   "name": "python",
   "nbconvert_exporter": "python",
   "pygments_lexer": "ipython3",
   "version": "3.9.4-final"
  },
  "orig_nbformat": 2,
  "kernelspec": {
   "name": "python394jvsc74a57bd0d1ec17996380f50aaa1cf76f0f39c315acd826dac652f0f3d53334e7a8f340bb",
   "display_name": "Python 3.9.4 64-bit"
  },
  "metadata": {
   "interpreter": {
    "hash": "d1ec17996380f50aaa1cf76f0f39c315acd826dac652f0f3d53334e7a8f340bb"
   }
  }
 },
 "nbformat": 4,
 "nbformat_minor": 2,
 "cells": [
  {
   "cell_type": "code",
   "execution_count": 2,
   "metadata": {},
   "outputs": [
    {
     "output_type": "stream",
     "name": "stderr",
     "text": [
      "C:\\Users\\druny\\AppData\\Local\\Programs\\Python\\Python39\\lib\\site-packages\\urllib3\\connectionpool.py:1013: InsecureRequestWarning: Unverified HTTPS request is being made to host 'localhost'. Adding certificate verification is strongly advised. See: https://urllib3.readthedocs.io/en/latest/advanced-usage.html#ssl-warnings\n",
      "  warnings.warn(\n",
      "yb|rHyrzxDE?aAYDsAHOdAIF?AcC|AGfAAfARBzAPrBpAxH|CfRdBnKvAvIThBN`A`AlGDZ\\jBM^GN]`@_@]KY_@wBMeACgAfAE~@MpAc@`A|FA^CRQRMHQAWGe@gDCSaA{Fe@aCEObAi@~BmA`Ao@bBoAZOHCA_@MgAw@_FnEaCiAgHpEfYN~@KLk@\\wBjAyFvCeBt@a@NkAV{@He@BU?_@JWJMAOAk@A_B][Qg@G]IcA[uBu@g@QiBc@k@SUCk@UcEmAgHqBqBo@g@O_A_@KEyBm@wBk@s@Ym@Mg@QeAWkCw@OECIMQQOEe@?]J[VMh@Pn@\\PL[pDqBbUUfCs@U_AYqC{@oJqCz@eJtA{NpB^|A^jBf@zBl@xGjB|Bn@pA`@fD`Ax@R\\Pz@Vp@TxF`Bu@lICXd@LfCr@~Ab@@D@Ha@jECBUEc@MA@?BgBk@oBq@RkBVgCt@mIpHxB`A\\TBj@RzBl@vBr@nBl@l@HZP~A\\n@@XB\\Lj@Nx@Cb@ERCl@Ox@YLn@r@zEEd@YXKBc@Ii@qDy@mFs@iDlFsChCkBTK\\FNLJVp@|DD`@oCxAgB|@iAf@_A\\y@Py@LoADw@VYCo@A_B][Qm@Iy@UgC}@e@M{Bm@k@SUCaA]kP{Eq@U{@W]QC[EKgBo@sAYc@OKSGa@?k@Cc@Kc@Sc@QSYIw@SYMIMGQUu@XcDhB{Rf@mFPoB\\B`EFzFKxC?_@jEWxCsC|[y@zIKl@QE_A_@ECm@OeD_Ac@Ks@YuA_@oBg@aBg@OECIMQQOEe@?]J[VMh@Pn@\\PL[pDI|@_Ffj@mEbf@iDr_@sBdUkAzLs@bIk@lFiAvIIjAErA?tBF|Bx@nMh@fHGj@@~@d@fSL^FDLANIFQI_Dm@_RMkAIoBq@_NIgBCeBJ_GHgBfB_RT{C\\yDhB}RzDac@lOkdBpCmZf@mFPoB\\B`EFnCGjBCxC?fBE~AAzBAPCTeDLmBnAkRbBTMtCLuCcBUk@`JOpB}@OWhEAx@LzDO?gEBkBD}C?}BByBFuDGi@CfDo^~@}JlEwf@LqAhAXjDz@~Ad@f@NZT^ZP\\Df@ThE@FAGUiEEg@EMk@k@[Ug@O_Be@yEkA[IDk@xCg\\`Fgj@d@_F`AqIPWDSb@yDBWLK^Yr@R`@LPFNT@^E\\KXMJaDaA}LwDGA\n"
     ]
    }
   ],
   "source": [
    "import tools\n",
    "import json\n",
    "\n",
    "search_array = [\n",
    "    '8 общежитие кпи',\n",
    "    'метро кпи',\n",
    "    'метро шулявская',\n",
    "    'спорткомплекс кпи',\n",
    "    'атб кпи',\n",
    "    'киев жк кампус',\n",
    "    '18 корпус кпи',\n",
    "    'тц космополит киев',\n",
    "    'киев макдональдз шулявская',\n",
    "    'ахмадет киев'\n",
    "]\n",
    "\n",
    "#tools.record_location_info(search_array)\n",
    "location_infos = tools.get_recorded_location_infos()\n",
    "optimized_route = tools.get_optimized_route(location_infos)\n",
    "print(optimized_route['polyline'])"
   ]
  },
  {
   "cell_type": "code",
   "execution_count": null,
   "metadata": {},
   "outputs": [],
   "source": []
  }
 ]
}