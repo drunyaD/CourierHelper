{
 "metadata": {
  "language_info": {
   "codemirror_mode": {
    "name": "ipython",
    "version": 3
   },
   "file_extension": ".py",
   "mimetype": "text/x-python",
   "name": "python",
   "nbconvert_exporter": "python",
   "pygments_lexer": "ipython3",
   "version": "3.9.4-final"
  },
  "orig_nbformat": 2,
  "kernelspec": {
   "name": "python394jvsc74a57bd0d1ec17996380f50aaa1cf76f0f39c315acd826dac652f0f3d53334e7a8f340bb",
   "display_name": "Python 3.9.4 64-bit"
  },
  "metadata": {
   "interpreter": {
    "hash": "d1ec17996380f50aaa1cf76f0f39c315acd826dac652f0f3d53334e7a8f340bb"
   }
  }
 },
 "nbformat": 4,
 "nbformat_minor": 2,
 "cells": [
  {
   "cell_type": "code",
   "execution_count": 2,
   "metadata": {},
   "outputs": [
    {
     "output_type": "stream",
     "name": "stdout",
     "text": [
      "yb|rHyrzxDE?aAYDsAHOcA[LeBPC\\}EXmEh@cIPoCF?zATMtCLuC{AUG?QnCi@bI}@OMnBKhBLdF{B@_B@gBDyC?kBBoCFaEG]CRwBdBaR~@aKt@iIjCoY~@mKFs@ZH|@TrEhAnA`@bAz@DJDVZhF[iFEWEKcA{@oAa@sEiAyA_@VcDrHoy@dBsQv@eHPWHi@^cDBWLK^Yr@R`@LXNFL@^E\\KXMJQEsDiAuFcBkDgAjDfAhLlDPDb@NHr@Ff@@h@IhEs@xIMnBUlEGbE@zCD`ENzDh@dGRxBDdABdA^nDbBlNS\\W\\SPkCzAaAf@o@Rw@FoBJoAa@sEiAyA_@HaAhFqk@dAuLrBmTr@}FFw@JMHUBUd@cEl@e@`AXh@RNZEd@GZKRGBMCoAa@{Ac@_DaAKe@A_@DYJSLMF@\\FZNd@`@NRFTBj@eAtLe@bFuCp[eGhq@kEbe@{@fK_Gpn@gBpRiAzMoBpTUfCs@U_AYqC{@oJqCz@eJtA{NpB^|A^jBf@zBl@xGjB|Bn@pA`@fD`Ax@R\\Pz@Vp@TjPzE`A\\TBj@RzBl@d@LfC|@x@Tl@HZP~A\\n@@XB\\Lj@Nx@Cb@E`ASx@YLn@r@zEEd@YXKBc@I}@iGe@uCMs@e@uBxDqBr@a@lBwAj@]T?LDNLJVLn@b@lCD`@oCxAgB|@c@PgAd@q@RcARcAHg@@w@ViAE_B][Qm@IoBm@wBs@{Bm@k@SUCaA]qHyByFaBq@U{@WYQG[EKIG}Ag@sAYc@OKSGa@?k@Cc@Kc@Sc@QSYIw@SYMIMGQUu@XcDhB{Rf@mFPoB\\B`EFnCGjBCxC?_@jEWxCkA|MaCzWKl@QE_A_@KEyBm@wBk@s@Ym@Mg@QeAWkCw@OECIMQQOEe@?]J[VMh@Pn@\\PL[pDqBbUUfCs@U_AYqC{@oJqCz@eJtA{NpB^|A^jBf@zBl@xGjB|Bn@pA`@fD`Ax@R\\Pz@Vp@TxF`Bu@lICXd@LfCr@~Ab@@D@Ha@jECBUEc@MA@?BgBk@oBq@RkBVgCt@mIpHxB`A\\TBj@RzBl@vBr@nBl@l@HZP~A\\n@@XB\\Lj@Nx@Cb@ERCl@Ox@YLn@r@zEEd@YXKBc@Ii@qDy@mFs@iDlFsChCkBTK@SC]cAuGnEaCUyAs@mEb@nC\n",
      "C:\\Users\\druny\\AppData\\Local\\Programs\\Python\\Python39\\lib\\site-packages\\urllib3\\connectionpool.py:1013: InsecureRequestWarning: Unverified HTTPS request is being made to host 'localhost'. Adding certificate verification is strongly advised. See: https://urllib3.readthedocs.io/en/latest/advanced-usage.html#ssl-warnings\n",
      "  warnings.warn(\n"
     ]
    }
   ],
   "source": [
    "import tools\n",
    "import json\n",
    "\n",
    "search_array = [\n",
    "    '8 общежитие кпи',\n",
    "    'метро кпи',\n",
    "    'метро шулявская',\n",
    "    'спорткомплекс кпи',\n",
    "    'атб кпи',\n",
    "    'киев жк кампус',\n",
    "    '18 корпус кпи',\n",
    "    'тц космополит киев',\n",
    "    'киев макдональдз шулявская',\n",
    "    'ахмадет киев'\n",
    "]\n",
    "\n",
    "#tools.record_location_info(search_array)\n",
    "location_infos = tools.get_recorded_location_infos()\n",
    "optimized_route = tools.get_optimized_route(location_infos)\n",
    "print(optimized_route['polyline'])"
   ]
  },
  {
   "cell_type": "code",
   "execution_count": null,
   "metadata": {},
   "outputs": [],
   "source": []
  }
 ]
}