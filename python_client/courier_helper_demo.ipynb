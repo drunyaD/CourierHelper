{
 "metadata": {
  "language_info": {
   "codemirror_mode": {
    "name": "ipython",
    "version": 3
   },
   "file_extension": ".py",
   "mimetype": "text/x-python",
   "name": "python",
   "nbconvert_exporter": "python",
   "pygments_lexer": "ipython3",
   "version": "3.9.4-final"
  },
  "orig_nbformat": 2,
  "kernelspec": {
   "name": "python394jvsc74a57bd0d1ec17996380f50aaa1cf76f0f39c315acd826dac652f0f3d53334e7a8f340bb",
   "display_name": "Python 3.9.4 64-bit"
  },
  "metadata": {
   "interpreter": {
    "hash": "d1ec17996380f50aaa1cf76f0f39c315acd826dac652f0f3d53334e7a8f340bb"
   }
  }
 },
 "nbformat": 4,
 "nbformat_minor": 2,
 "cells": [
  {
   "cell_type": "code",
   "execution_count": 69,
   "metadata": {},
   "outputs": [
    {
     "output_type": "display_data",
     "data": {
      "text/plain": "     latitude  longitude                                            address\n0   50.447975  30.451806    Akademika Yanhelya St, 20, Kyiv, Ukraine, 02000\n1   50.448329  30.451942                                                NaN\n2   50.448254  30.452440                                                NaN\n3   50.448594  30.452577                                                NaN\n4   50.448524  30.453092                                                NaN\n5   50.447848  30.457592                                                NaN\n6   50.447349  30.457478                                                NaN\n7   50.447422  30.456730                                                NaN\n8   50.447422  30.456730        Politekhnichna St, 41, Kyiv, Ukraine, 03056\n9   50.447319  30.459922                                                NaN\n10  50.445951  30.459535                                                NaN\n11  50.443717  30.440799                                                NaN\n12  50.444453  30.441980                                                NaN\n13  50.443356  30.442264                                                NaN\n14  50.443434  30.440625                                                NaN\n15  50.444187  30.443562                                                NaN\n16  50.442187  30.444898                                                NaN\n17  50.442550  30.446539                                                NaN\n18  50.441511  30.447187                                                NaN\n19  50.441703  30.447946                                                NaN\n20  50.441703  30.447946       Nyzhnokliuchova St, 14, Kyiv, Ukraine, 03056\n21  50.441885  30.448666                                                NaN\n22  50.441885  30.448666           Nyzhnokliuchova St, Kyiv, Ukraine, 02000\n23  50.440746  30.444149                                                NaN\n24  50.454129  30.445695                                                NaN\n25  50.455013  30.446041                                                NaN\n26  50.455315  30.441390                                                NaN\n27  50.458470  30.442657                                                NaN\n28  50.457742  30.446987                                                NaN\n29  50.452934  30.445227                                                NaN\n30  50.450011  30.444052                                                NaN\n31  50.450305  30.442247                                                NaN\n32  50.449433  30.441924                                                NaN\n33  50.449433  30.441924         Vadyma Hetmana St, 6, Kyiv, Ukraine, 03057\n34  50.450499  30.441156                                                NaN\n35  50.450011  30.444052                                                NaN\n36  50.443356  30.442264                                                NaN\n37  50.443434  30.440625                                                NaN\n38  50.444187  30.443562                                                NaN\n39  50.441628  30.443549                                                NaN\n40  50.451955  30.444862                                                NaN\n41  50.452369  30.445232                                                NaN\n42  50.452369  30.445232         1, Vadyma Hetmana St, Kyiv, Ukraine, 02000\n43  50.454243  30.447291                                                NaN\n44  50.453293  30.453037                                                NaN\n45  50.450135  30.453041                                                NaN\n46  50.451510  30.444654                                                NaN\n47  50.454129  30.445695                                                NaN\n48  50.455013  30.446041                                                NaN\n49  50.454686  30.445300                                                NaN\n50  50.454686  30.445300                   Shuliavska, Kyiv, Ukraine, 02000\n51  50.459041  30.410777                                                NaN\n52  50.458950  30.408207                                                NaN\n53  50.458877  30.407005                                                NaN\n54  50.458934  30.411182                                                NaN\n55  50.451027  30.466757                                                NaN\n56  50.450737  30.466652                                                NaN\n57  50.450737  30.466652     Politekhnichnyi instytut, Kyiv, Ukraine, 02000\n58  50.449119  30.466059                                                NaN\n59  50.448577  30.464406                                                NaN\n60  50.448577  30.464406        Politekhnichna St, 31, Kyiv, Ukraine, 02000\n61  50.449119  30.466059                                                NaN\n62  50.451027  30.466757                                                NaN\n63  50.448575  30.481386                                                NaN\n64  50.448264  30.482661                                                NaN\n65  50.447581  30.482025                                                NaN\n66  50.450664  30.483295  Viacheslava Chornovola St, 28/1, Kyiv, Ukraine...",
      "text/html": "<div>\n<style scoped>\n    .dataframe tbody tr th:only-of-type {\n        vertical-align: middle;\n    }\n\n    .dataframe tbody tr th {\n        vertical-align: top;\n    }\n\n    .dataframe thead th {\n        text-align: right;\n    }\n</style>\n<table border=\"1\" class=\"dataframe\">\n  <thead>\n    <tr style=\"text-align: right;\">\n      <th></th>\n      <th>latitude</th>\n      <th>longitude</th>\n      <th>address</th>\n    </tr>\n  </thead>\n  <tbody>\n    <tr>\n      <th>0</th>\n      <td>50.447975</td>\n      <td>30.451806</td>\n      <td>Akademika Yanhelya St, 20, Kyiv, Ukraine, 02000</td>\n    </tr>\n    <tr>\n      <th>1</th>\n      <td>50.448329</td>\n      <td>30.451942</td>\n      <td>NaN</td>\n    </tr>\n    <tr>\n      <th>2</th>\n      <td>50.448254</td>\n      <td>30.452440</td>\n      <td>NaN</td>\n    </tr>\n    <tr>\n      <th>3</th>\n      <td>50.448594</td>\n      <td>30.452577</td>\n      <td>NaN</td>\n    </tr>\n    <tr>\n      <th>4</th>\n      <td>50.448524</td>\n      <td>30.453092</td>\n      <td>NaN</td>\n    </tr>\n    <tr>\n      <th>5</th>\n      <td>50.447848</td>\n      <td>30.457592</td>\n      <td>NaN</td>\n    </tr>\n    <tr>\n      <th>6</th>\n      <td>50.447349</td>\n      <td>30.457478</td>\n      <td>NaN</td>\n    </tr>\n    <tr>\n      <th>7</th>\n      <td>50.447422</td>\n      <td>30.456730</td>\n      <td>NaN</td>\n    </tr>\n    <tr>\n      <th>8</th>\n      <td>50.447422</td>\n      <td>30.456730</td>\n      <td>Politekhnichna St, 41, Kyiv, Ukraine, 03056</td>\n    </tr>\n    <tr>\n      <th>9</th>\n      <td>50.447319</td>\n      <td>30.459922</td>\n      <td>NaN</td>\n    </tr>\n    <tr>\n      <th>10</th>\n      <td>50.445951</td>\n      <td>30.459535</td>\n      <td>NaN</td>\n    </tr>\n    <tr>\n      <th>11</th>\n      <td>50.443717</td>\n      <td>30.440799</td>\n      <td>NaN</td>\n    </tr>\n    <tr>\n      <th>12</th>\n      <td>50.444453</td>\n      <td>30.441980</td>\n      <td>NaN</td>\n    </tr>\n    <tr>\n      <th>13</th>\n      <td>50.443356</td>\n      <td>30.442264</td>\n      <td>NaN</td>\n    </tr>\n    <tr>\n      <th>14</th>\n      <td>50.443434</td>\n      <td>30.440625</td>\n      <td>NaN</td>\n    </tr>\n    <tr>\n      <th>15</th>\n      <td>50.444187</td>\n      <td>30.443562</td>\n      <td>NaN</td>\n    </tr>\n    <tr>\n      <th>16</th>\n      <td>50.442187</td>\n      <td>30.444898</td>\n      <td>NaN</td>\n    </tr>\n    <tr>\n      <th>17</th>\n      <td>50.442550</td>\n      <td>30.446539</td>\n      <td>NaN</td>\n    </tr>\n    <tr>\n      <th>18</th>\n      <td>50.441511</td>\n      <td>30.447187</td>\n      <td>NaN</td>\n    </tr>\n    <tr>\n      <th>19</th>\n      <td>50.441703</td>\n      <td>30.447946</td>\n      <td>NaN</td>\n    </tr>\n    <tr>\n      <th>20</th>\n      <td>50.441703</td>\n      <td>30.447946</td>\n      <td>Nyzhnokliuchova St, 14, Kyiv, Ukraine, 03056</td>\n    </tr>\n    <tr>\n      <th>21</th>\n      <td>50.441885</td>\n      <td>30.448666</td>\n      <td>NaN</td>\n    </tr>\n    <tr>\n      <th>22</th>\n      <td>50.441885</td>\n      <td>30.448666</td>\n      <td>Nyzhnokliuchova St, Kyiv, Ukraine, 02000</td>\n    </tr>\n    <tr>\n      <th>23</th>\n      <td>50.440746</td>\n      <td>30.444149</td>\n      <td>NaN</td>\n    </tr>\n    <tr>\n      <th>24</th>\n      <td>50.454129</td>\n      <td>30.445695</td>\n      <td>NaN</td>\n    </tr>\n    <tr>\n      <th>25</th>\n      <td>50.455013</td>\n      <td>30.446041</td>\n      <td>NaN</td>\n    </tr>\n    <tr>\n      <th>26</th>\n      <td>50.455315</td>\n      <td>30.441390</td>\n      <td>NaN</td>\n    </tr>\n    <tr>\n      <th>27</th>\n      <td>50.458470</td>\n      <td>30.442657</td>\n      <td>NaN</td>\n    </tr>\n    <tr>\n      <th>28</th>\n      <td>50.457742</td>\n      <td>30.446987</td>\n      <td>NaN</td>\n    </tr>\n    <tr>\n      <th>29</th>\n      <td>50.452934</td>\n      <td>30.445227</td>\n      <td>NaN</td>\n    </tr>\n    <tr>\n      <th>30</th>\n      <td>50.450011</td>\n      <td>30.444052</td>\n      <td>NaN</td>\n    </tr>\n    <tr>\n      <th>31</th>\n      <td>50.450305</td>\n      <td>30.442247</td>\n      <td>NaN</td>\n    </tr>\n    <tr>\n      <th>32</th>\n      <td>50.449433</td>\n      <td>30.441924</td>\n      <td>NaN</td>\n    </tr>\n    <tr>\n      <th>33</th>\n      <td>50.449433</td>\n      <td>30.441924</td>\n      <td>Vadyma Hetmana St, 6, Kyiv, Ukraine, 03057</td>\n    </tr>\n    <tr>\n      <th>34</th>\n      <td>50.450499</td>\n      <td>30.441156</td>\n      <td>NaN</td>\n    </tr>\n    <tr>\n      <th>35</th>\n      <td>50.450011</td>\n      <td>30.444052</td>\n      <td>NaN</td>\n    </tr>\n    <tr>\n      <th>36</th>\n      <td>50.443356</td>\n      <td>30.442264</td>\n      <td>NaN</td>\n    </tr>\n    <tr>\n      <th>37</th>\n      <td>50.443434</td>\n      <td>30.440625</td>\n      <td>NaN</td>\n    </tr>\n    <tr>\n      <th>38</th>\n      <td>50.444187</td>\n      <td>30.443562</td>\n      <td>NaN</td>\n    </tr>\n    <tr>\n      <th>39</th>\n      <td>50.441628</td>\n      <td>30.443549</td>\n      <td>NaN</td>\n    </tr>\n    <tr>\n      <th>40</th>\n      <td>50.451955</td>\n      <td>30.444862</td>\n      <td>NaN</td>\n    </tr>\n    <tr>\n      <th>41</th>\n      <td>50.452369</td>\n      <td>30.445232</td>\n      <td>NaN</td>\n    </tr>\n    <tr>\n      <th>42</th>\n      <td>50.452369</td>\n      <td>30.445232</td>\n      <td>1, Vadyma Hetmana St, Kyiv, Ukraine, 02000</td>\n    </tr>\n    <tr>\n      <th>43</th>\n      <td>50.454243</td>\n      <td>30.447291</td>\n      <td>NaN</td>\n    </tr>\n    <tr>\n      <th>44</th>\n      <td>50.453293</td>\n      <td>30.453037</td>\n      <td>NaN</td>\n    </tr>\n    <tr>\n      <th>45</th>\n      <td>50.450135</td>\n      <td>30.453041</td>\n      <td>NaN</td>\n    </tr>\n    <tr>\n      <th>46</th>\n      <td>50.451510</td>\n      <td>30.444654</td>\n      <td>NaN</td>\n    </tr>\n    <tr>\n      <th>47</th>\n      <td>50.454129</td>\n      <td>30.445695</td>\n      <td>NaN</td>\n    </tr>\n    <tr>\n      <th>48</th>\n      <td>50.455013</td>\n      <td>30.446041</td>\n      <td>NaN</td>\n    </tr>\n    <tr>\n      <th>49</th>\n      <td>50.454686</td>\n      <td>30.445300</td>\n      <td>NaN</td>\n    </tr>\n    <tr>\n      <th>50</th>\n      <td>50.454686</td>\n      <td>30.445300</td>\n      <td>Shuliavska, Kyiv, Ukraine, 02000</td>\n    </tr>\n    <tr>\n      <th>51</th>\n      <td>50.459041</td>\n      <td>30.410777</td>\n      <td>NaN</td>\n    </tr>\n    <tr>\n      <th>52</th>\n      <td>50.458950</td>\n      <td>30.408207</td>\n      <td>NaN</td>\n    </tr>\n    <tr>\n      <th>53</th>\n      <td>50.458877</td>\n      <td>30.407005</td>\n      <td>NaN</td>\n    </tr>\n    <tr>\n      <th>54</th>\n      <td>50.458934</td>\n      <td>30.411182</td>\n      <td>NaN</td>\n    </tr>\n    <tr>\n      <th>55</th>\n      <td>50.451027</td>\n      <td>30.466757</td>\n      <td>NaN</td>\n    </tr>\n    <tr>\n      <th>56</th>\n      <td>50.450737</td>\n      <td>30.466652</td>\n      <td>NaN</td>\n    </tr>\n    <tr>\n      <th>57</th>\n      <td>50.450737</td>\n      <td>30.466652</td>\n      <td>Politekhnichnyi instytut, Kyiv, Ukraine, 02000</td>\n    </tr>\n    <tr>\n      <th>58</th>\n      <td>50.449119</td>\n      <td>30.466059</td>\n      <td>NaN</td>\n    </tr>\n    <tr>\n      <th>59</th>\n      <td>50.448577</td>\n      <td>30.464406</td>\n      <td>NaN</td>\n    </tr>\n    <tr>\n      <th>60</th>\n      <td>50.448577</td>\n      <td>30.464406</td>\n      <td>Politekhnichna St, 31, Kyiv, Ukraine, 02000</td>\n    </tr>\n    <tr>\n      <th>61</th>\n      <td>50.449119</td>\n      <td>30.466059</td>\n      <td>NaN</td>\n    </tr>\n    <tr>\n      <th>62</th>\n      <td>50.451027</td>\n      <td>30.466757</td>\n      <td>NaN</td>\n    </tr>\n    <tr>\n      <th>63</th>\n      <td>50.448575</td>\n      <td>30.481386</td>\n      <td>NaN</td>\n    </tr>\n    <tr>\n      <th>64</th>\n      <td>50.448264</td>\n      <td>30.482661</td>\n      <td>NaN</td>\n    </tr>\n    <tr>\n      <th>65</th>\n      <td>50.447581</td>\n      <td>30.482025</td>\n      <td>NaN</td>\n    </tr>\n    <tr>\n      <th>66</th>\n      <td>50.450664</td>\n      <td>30.483295</td>\n      <td>Viacheslava Chornovola St, 28/1, Kyiv, Ukraine...</td>\n    </tr>\n  </tbody>\n</table>\n</div>"
     },
     "metadata": {}
    },
    {
     "output_type": "display_data",
     "data": {
      "application/vnd.plotly.v1+json": {
       "config": {
        "plotlyServerURL": "https://plot.ly"
       },
       "data": [
        {
         "hovertemplate": "address=%{text}<br>latitude=%{lat}<br>longitude=%{lon}<extra></extra>",
         "lat": [
          50.4479749,
          50.4483288,
          50.4482545,
          50.4485944,
          50.4485235,
          50.4478476,
          50.4473492,
          50.4474222,
          50.4474222,
          50.4473194,
          50.4459512,
          50.44371659999999,
          50.4444534,
          50.4433556,
          50.4434339,
          50.4441873,
          50.44218739999999,
          50.4425503,
          50.441511,
          50.4417026,
          50.4417026,
          50.4418848,
          50.4418848,
          50.4407462,
          50.4541292,
          50.45501280000001,
          50.45531500000001,
          50.4584704,
          50.4577417,
          50.45293359999999,
          50.4500114,
          50.4503049,
          50.4494328,
          50.4494328,
          50.4504992,
          50.4500114,
          50.4433556,
          50.4434339,
          50.4441873,
          50.441628,
          50.4519554,
          50.452369,
          50.452369,
          50.4542434,
          50.4532933,
          50.4501352,
          50.4515097,
          50.4541292,
          50.45501280000001,
          50.4546858,
          50.4546858,
          50.4590405,
          50.4589498,
          50.4588769,
          50.4589337,
          50.451027,
          50.4507367,
          50.4507367,
          50.44911880000001,
          50.4485767,
          50.4485767,
          50.44911880000001,
          50.451027,
          50.44857529999999,
          50.4482644,
          50.4475807,
          50.4506636
         ],
         "legendgroup": "",
         "line": {
          "color": "#636efa"
         },
         "lon": [
          30.4518064,
          30.4519422,
          30.4524398,
          30.4525772,
          30.4530918,
          30.45759229999999,
          30.4574783,
          30.4567302,
          30.4567302,
          30.4599217,
          30.4595345,
          30.4407992,
          30.4419799,
          30.4422637,
          30.4406254,
          30.4435616,
          30.4448977,
          30.4465394,
          30.4471866,
          30.447946,
          30.447946,
          30.44866589999999,
          30.44866589999999,
          30.4441485,
          30.4456951,
          30.4460406,
          30.4413898,
          30.4426569,
          30.4469871,
          30.4452274,
          30.4440518,
          30.4422469,
          30.4419243,
          30.4419243,
          30.4411561,
          30.4440518,
          30.4422637,
          30.4406254,
          30.4435616,
          30.4435492,
          30.4448623,
          30.4452323,
          30.4452323,
          30.4472913,
          30.4530366,
          30.4530405,
          30.4446539,
          30.4456951,
          30.4460406,
          30.4453001,
          30.4453001,
          30.4107772,
          30.4082066,
          30.4070047,
          30.4111817,
          30.4667574,
          30.4666523,
          30.4666523,
          30.4660589,
          30.4644058,
          30.4644058,
          30.4660589,
          30.4667574,
          30.4813857,
          30.4826612,
          30.48202509999999,
          30.4832947
         ],
         "mode": "lines+markers+text",
         "name": "",
         "showlegend": false,
         "subplot": "mapbox",
         "text": [
          "Akademika Yanhelya St, 20, Kyiv, Ukraine, 02000",
          null,
          null,
          null,
          null,
          null,
          null,
          null,
          "Politekhnichna St, 41, Kyiv, Ukraine, 03056",
          null,
          null,
          null,
          null,
          null,
          null,
          null,
          null,
          null,
          null,
          null,
          "Nyzhnokliuchova St, 14, Kyiv, Ukraine, 03056",
          null,
          "Nyzhnokliuchova St, Kyiv, Ukraine, 02000",
          null,
          null,
          null,
          null,
          null,
          null,
          null,
          null,
          null,
          null,
          "Vadyma Hetmana St, 6, Kyiv, Ukraine, 03057",
          null,
          null,
          null,
          null,
          null,
          null,
          null,
          null,
          "1, Vadyma Hetmana St, Kyiv, Ukraine, 02000",
          null,
          null,
          null,
          null,
          null,
          null,
          null,
          "Shuliavska, Kyiv, Ukraine, 02000",
          null,
          null,
          null,
          null,
          null,
          null,
          "Politekhnichnyi instytut, Kyiv, Ukraine, 02000",
          null,
          null,
          "Politekhnichna St, 31, Kyiv, Ukraine, 02000",
          null,
          null,
          null,
          null,
          null,
          "Viacheslava Chornovola St, 28/1, Kyiv, Ukraine, 01135"
         ],
         "type": "scattermapbox"
        }
       ],
       "layout": {
        "annotations": [
         {
          "text": "Text annotation without arrow",
          "x": 50.4479749,
          "y": 30.4518064
         }
        ],
        "height": 500,
        "legend": {
         "tracegroupgap": 0
        },
        "mapbox": {
         "center": {
          "lat": 50.449229795522385,
          "lon": 30.449229749253732
         },
         "domain": {
          "x": [
           0,
           1
          ],
          "y": [
           0,
           1
          ]
         },
         "style": "stamen-terrain",
         "zoom": 13
        },
        "margin": {
         "b": 0,
         "l": 0,
         "r": 0,
         "t": 0
        },
        "template": {
         "data": {
          "bar": [
           {
            "error_x": {
             "color": "#2a3f5f"
            },
            "error_y": {
             "color": "#2a3f5f"
            },
            "marker": {
             "line": {
              "color": "#E5ECF6",
              "width": 0.5
             }
            },
            "type": "bar"
           }
          ],
          "barpolar": [
           {
            "marker": {
             "line": {
              "color": "#E5ECF6",
              "width": 0.5
             }
            },
            "type": "barpolar"
           }
          ],
          "carpet": [
           {
            "aaxis": {
             "endlinecolor": "#2a3f5f",
             "gridcolor": "white",
             "linecolor": "white",
             "minorgridcolor": "white",
             "startlinecolor": "#2a3f5f"
            },
            "baxis": {
             "endlinecolor": "#2a3f5f",
             "gridcolor": "white",
             "linecolor": "white",
             "minorgridcolor": "white",
             "startlinecolor": "#2a3f5f"
            },
            "type": "carpet"
           }
          ],
          "choropleth": [
           {
            "colorbar": {
             "outlinewidth": 0,
             "ticks": ""
            },
            "type": "choropleth"
           }
          ],
          "contour": [
           {
            "colorbar": {
             "outlinewidth": 0,
             "ticks": ""
            },
            "colorscale": [
             [
              0,
              "#0d0887"
             ],
             [
              0.1111111111111111,
              "#46039f"
             ],
             [
              0.2222222222222222,
              "#7201a8"
             ],
             [
              0.3333333333333333,
              "#9c179e"
             ],
             [
              0.4444444444444444,
              "#bd3786"
             ],
             [
              0.5555555555555556,
              "#d8576b"
             ],
             [
              0.6666666666666666,
              "#ed7953"
             ],
             [
              0.7777777777777778,
              "#fb9f3a"
             ],
             [
              0.8888888888888888,
              "#fdca26"
             ],
             [
              1,
              "#f0f921"
             ]
            ],
            "type": "contour"
           }
          ],
          "contourcarpet": [
           {
            "colorbar": {
             "outlinewidth": 0,
             "ticks": ""
            },
            "type": "contourcarpet"
           }
          ],
          "heatmap": [
           {
            "colorbar": {
             "outlinewidth": 0,
             "ticks": ""
            },
            "colorscale": [
             [
              0,
              "#0d0887"
             ],
             [
              0.1111111111111111,
              "#46039f"
             ],
             [
              0.2222222222222222,
              "#7201a8"
             ],
             [
              0.3333333333333333,
              "#9c179e"
             ],
             [
              0.4444444444444444,
              "#bd3786"
             ],
             [
              0.5555555555555556,
              "#d8576b"
             ],
             [
              0.6666666666666666,
              "#ed7953"
             ],
             [
              0.7777777777777778,
              "#fb9f3a"
             ],
             [
              0.8888888888888888,
              "#fdca26"
             ],
             [
              1,
              "#f0f921"
             ]
            ],
            "type": "heatmap"
           }
          ],
          "heatmapgl": [
           {
            "colorbar": {
             "outlinewidth": 0,
             "ticks": ""
            },
            "colorscale": [
             [
              0,
              "#0d0887"
             ],
             [
              0.1111111111111111,
              "#46039f"
             ],
             [
              0.2222222222222222,
              "#7201a8"
             ],
             [
              0.3333333333333333,
              "#9c179e"
             ],
             [
              0.4444444444444444,
              "#bd3786"
             ],
             [
              0.5555555555555556,
              "#d8576b"
             ],
             [
              0.6666666666666666,
              "#ed7953"
             ],
             [
              0.7777777777777778,
              "#fb9f3a"
             ],
             [
              0.8888888888888888,
              "#fdca26"
             ],
             [
              1,
              "#f0f921"
             ]
            ],
            "type": "heatmapgl"
           }
          ],
          "histogram": [
           {
            "marker": {
             "colorbar": {
              "outlinewidth": 0,
              "ticks": ""
             }
            },
            "type": "histogram"
           }
          ],
          "histogram2d": [
           {
            "colorbar": {
             "outlinewidth": 0,
             "ticks": ""
            },
            "colorscale": [
             [
              0,
              "#0d0887"
             ],
             [
              0.1111111111111111,
              "#46039f"
             ],
             [
              0.2222222222222222,
              "#7201a8"
             ],
             [
              0.3333333333333333,
              "#9c179e"
             ],
             [
              0.4444444444444444,
              "#bd3786"
             ],
             [
              0.5555555555555556,
              "#d8576b"
             ],
             [
              0.6666666666666666,
              "#ed7953"
             ],
             [
              0.7777777777777778,
              "#fb9f3a"
             ],
             [
              0.8888888888888888,
              "#fdca26"
             ],
             [
              1,
              "#f0f921"
             ]
            ],
            "type": "histogram2d"
           }
          ],
          "histogram2dcontour": [
           {
            "colorbar": {
             "outlinewidth": 0,
             "ticks": ""
            },
            "colorscale": [
             [
              0,
              "#0d0887"
             ],
             [
              0.1111111111111111,
              "#46039f"
             ],
             [
              0.2222222222222222,
              "#7201a8"
             ],
             [
              0.3333333333333333,
              "#9c179e"
             ],
             [
              0.4444444444444444,
              "#bd3786"
             ],
             [
              0.5555555555555556,
              "#d8576b"
             ],
             [
              0.6666666666666666,
              "#ed7953"
             ],
             [
              0.7777777777777778,
              "#fb9f3a"
             ],
             [
              0.8888888888888888,
              "#fdca26"
             ],
             [
              1,
              "#f0f921"
             ]
            ],
            "type": "histogram2dcontour"
           }
          ],
          "mesh3d": [
           {
            "colorbar": {
             "outlinewidth": 0,
             "ticks": ""
            },
            "type": "mesh3d"
           }
          ],
          "parcoords": [
           {
            "line": {
             "colorbar": {
              "outlinewidth": 0,
              "ticks": ""
             }
            },
            "type": "parcoords"
           }
          ],
          "pie": [
           {
            "automargin": true,
            "type": "pie"
           }
          ],
          "scatter": [
           {
            "marker": {
             "colorbar": {
              "outlinewidth": 0,
              "ticks": ""
             }
            },
            "type": "scatter"
           }
          ],
          "scatter3d": [
           {
            "line": {
             "colorbar": {
              "outlinewidth": 0,
              "ticks": ""
             }
            },
            "marker": {
             "colorbar": {
              "outlinewidth": 0,
              "ticks": ""
             }
            },
            "type": "scatter3d"
           }
          ],
          "scattercarpet": [
           {
            "marker": {
             "colorbar": {
              "outlinewidth": 0,
              "ticks": ""
             }
            },
            "type": "scattercarpet"
           }
          ],
          "scattergeo": [
           {
            "marker": {
             "colorbar": {
              "outlinewidth": 0,
              "ticks": ""
             }
            },
            "type": "scattergeo"
           }
          ],
          "scattergl": [
           {
            "marker": {
             "colorbar": {
              "outlinewidth": 0,
              "ticks": ""
             }
            },
            "type": "scattergl"
           }
          ],
          "scattermapbox": [
           {
            "marker": {
             "colorbar": {
              "outlinewidth": 0,
              "ticks": ""
             }
            },
            "type": "scattermapbox"
           }
          ],
          "scatterpolar": [
           {
            "marker": {
             "colorbar": {
              "outlinewidth": 0,
              "ticks": ""
             }
            },
            "type": "scatterpolar"
           }
          ],
          "scatterpolargl": [
           {
            "marker": {
             "colorbar": {
              "outlinewidth": 0,
              "ticks": ""
             }
            },
            "type": "scatterpolargl"
           }
          ],
          "scatterternary": [
           {
            "marker": {
             "colorbar": {
              "outlinewidth": 0,
              "ticks": ""
             }
            },
            "type": "scatterternary"
           }
          ],
          "surface": [
           {
            "colorbar": {
             "outlinewidth": 0,
             "ticks": ""
            },
            "colorscale": [
             [
              0,
              "#0d0887"
             ],
             [
              0.1111111111111111,
              "#46039f"
             ],
             [
              0.2222222222222222,
              "#7201a8"
             ],
             [
              0.3333333333333333,
              "#9c179e"
             ],
             [
              0.4444444444444444,
              "#bd3786"
             ],
             [
              0.5555555555555556,
              "#d8576b"
             ],
             [
              0.6666666666666666,
              "#ed7953"
             ],
             [
              0.7777777777777778,
              "#fb9f3a"
             ],
             [
              0.8888888888888888,
              "#fdca26"
             ],
             [
              1,
              "#f0f921"
             ]
            ],
            "type": "surface"
           }
          ],
          "table": [
           {
            "cells": {
             "fill": {
              "color": "#EBF0F8"
             },
             "line": {
              "color": "white"
             }
            },
            "header": {
             "fill": {
              "color": "#C8D4E3"
             },
             "line": {
              "color": "white"
             }
            },
            "type": "table"
           }
          ]
         },
         "layout": {
          "annotationdefaults": {
           "arrowcolor": "#2a3f5f",
           "arrowhead": 0,
           "arrowwidth": 1
          },
          "autotypenumbers": "strict",
          "coloraxis": {
           "colorbar": {
            "outlinewidth": 0,
            "ticks": ""
           }
          },
          "colorscale": {
           "diverging": [
            [
             0,
             "#8e0152"
            ],
            [
             0.1,
             "#c51b7d"
            ],
            [
             0.2,
             "#de77ae"
            ],
            [
             0.3,
             "#f1b6da"
            ],
            [
             0.4,
             "#fde0ef"
            ],
            [
             0.5,
             "#f7f7f7"
            ],
            [
             0.6,
             "#e6f5d0"
            ],
            [
             0.7,
             "#b8e186"
            ],
            [
             0.8,
             "#7fbc41"
            ],
            [
             0.9,
             "#4d9221"
            ],
            [
             1,
             "#276419"
            ]
           ],
           "sequential": [
            [
             0,
             "#0d0887"
            ],
            [
             0.1111111111111111,
             "#46039f"
            ],
            [
             0.2222222222222222,
             "#7201a8"
            ],
            [
             0.3333333333333333,
             "#9c179e"
            ],
            [
             0.4444444444444444,
             "#bd3786"
            ],
            [
             0.5555555555555556,
             "#d8576b"
            ],
            [
             0.6666666666666666,
             "#ed7953"
            ],
            [
             0.7777777777777778,
             "#fb9f3a"
            ],
            [
             0.8888888888888888,
             "#fdca26"
            ],
            [
             1,
             "#f0f921"
            ]
           ],
           "sequentialminus": [
            [
             0,
             "#0d0887"
            ],
            [
             0.1111111111111111,
             "#46039f"
            ],
            [
             0.2222222222222222,
             "#7201a8"
            ],
            [
             0.3333333333333333,
             "#9c179e"
            ],
            [
             0.4444444444444444,
             "#bd3786"
            ],
            [
             0.5555555555555556,
             "#d8576b"
            ],
            [
             0.6666666666666666,
             "#ed7953"
            ],
            [
             0.7777777777777778,
             "#fb9f3a"
            ],
            [
             0.8888888888888888,
             "#fdca26"
            ],
            [
             1,
             "#f0f921"
            ]
           ]
          },
          "colorway": [
           "#636efa",
           "#EF553B",
           "#00cc96",
           "#ab63fa",
           "#FFA15A",
           "#19d3f3",
           "#FF6692",
           "#B6E880",
           "#FF97FF",
           "#FECB52"
          ],
          "font": {
           "color": "#2a3f5f"
          },
          "geo": {
           "bgcolor": "white",
           "lakecolor": "white",
           "landcolor": "#E5ECF6",
           "showlakes": true,
           "showland": true,
           "subunitcolor": "white"
          },
          "hoverlabel": {
           "align": "left"
          },
          "hovermode": "closest",
          "mapbox": {
           "style": "light"
          },
          "paper_bgcolor": "white",
          "plot_bgcolor": "#E5ECF6",
          "polar": {
           "angularaxis": {
            "gridcolor": "white",
            "linecolor": "white",
            "ticks": ""
           },
           "bgcolor": "#E5ECF6",
           "radialaxis": {
            "gridcolor": "white",
            "linecolor": "white",
            "ticks": ""
           }
          },
          "scene": {
           "xaxis": {
            "backgroundcolor": "#E5ECF6",
            "gridcolor": "white",
            "gridwidth": 2,
            "linecolor": "white",
            "showbackground": true,
            "ticks": "",
            "zerolinecolor": "white"
           },
           "yaxis": {
            "backgroundcolor": "#E5ECF6",
            "gridcolor": "white",
            "gridwidth": 2,
            "linecolor": "white",
            "showbackground": true,
            "ticks": "",
            "zerolinecolor": "white"
           },
           "zaxis": {
            "backgroundcolor": "#E5ECF6",
            "gridcolor": "white",
            "gridwidth": 2,
            "linecolor": "white",
            "showbackground": true,
            "ticks": "",
            "zerolinecolor": "white"
           }
          },
          "shapedefaults": {
           "line": {
            "color": "#2a3f5f"
           }
          },
          "ternary": {
           "aaxis": {
            "gridcolor": "white",
            "linecolor": "white",
            "ticks": ""
           },
           "baxis": {
            "gridcolor": "white",
            "linecolor": "white",
            "ticks": ""
           },
           "bgcolor": "#E5ECF6",
           "caxis": {
            "gridcolor": "white",
            "linecolor": "white",
            "ticks": ""
           }
          },
          "title": {
           "x": 0.05
          },
          "xaxis": {
           "automargin": true,
           "gridcolor": "white",
           "linecolor": "white",
           "ticks": "",
           "title": {
            "standoff": 15
           },
           "zerolinecolor": "white",
           "zerolinewidth": 2
          },
          "yaxis": {
           "automargin": true,
           "gridcolor": "white",
           "linecolor": "white",
           "ticks": "",
           "title": {
            "standoff": 15
           },
           "zerolinecolor": "white",
           "zerolinewidth": 2
          }
         }
        },
        "width": 1000
       }
      }
     },
     "metadata": {}
    }
   ],
   "source": [
    "import tools\n",
    "import json\n",
    "\n",
    "search_array = [\n",
    "    '8 общежитие кпи',\n",
    "    'метро кпи',\n",
    "    'метро шулявская',\n",
    "    'спорткомплекс кпи',\n",
    "    'атб кпи',\n",
    "    'киев жк кампус',\n",
    "    '18 корпус кпи',\n",
    "    'тц космополит киев',\n",
    "    'киев макдональдз шулявская',\n",
    "    'ахмадет киев'\n",
    "]\n",
    "\n",
    "# getting location info with coordinates of waypoints \n",
    "#tools.record_location_info(search_array)\n",
    "location_infos = tools.get_recorded_location_infos()\n",
    "# getting optimized route\n",
    "#tools.record_optimized_route(location_infos)\n",
    "optimized_route = tools.get_recorded_optimized_route()\n",
    "\n",
    "import plotly.express as px\n",
    "import pandas as pd\n",
    "\n",
    "# constructing route with waypoints names from response\n",
    "\n",
    "full_route = []\n",
    "segments = optimized_route['segments']\n",
    "for segmentId in range(len(segments)):\n",
    "    segment = segments[segmentId]\n",
    "    coordinates = segment['coordinates']\n",
    "    fromAddress = segment['fromAddress']\n",
    "    firstCoordinate = coordinates[0]\n",
    "    full_route.append({\n",
    "        'latitude': firstCoordinate['latitude'],\n",
    "        'longitude': firstCoordinate['longitude'],\n",
    "        'address': fromAddress\n",
    "    })\n",
    "    for coordinateId in range(1, len(coordinates)):\n",
    "        coordinate = coordinates[coordinateId]\n",
    "        full_route.append(coordinate)\n",
    "\n",
    "full_route[len(full_route) - 1]['address'] = segments[len(segments) - 1]['toAddress']    \n",
    "\n",
    "\n",
    "route = pd.json_normalize(full_route)\n",
    "\n",
    "pd.set_option('display.max_rows', None)\n",
    "display(route)\n",
    "\n",
    "fig = px.line_mapbox(route, lat='latitude', lon='longitude', text = 'address', zoom=13, width=1000, height=500)\n",
    "\n",
    "\n",
    "fig.update_layout(mapbox_style=\"stamen-terrain\", mapbox_zoom=13,\n",
    "    margin={\"l\":0,\"t\":0,\"r\":0,\"b\":0})\n",
    "\n",
    "fig.add_annotation(x = full_route[0]['latitude'], y = full_route[0]['longitude'], text=\"Text annotation without arrow\")\n",
    "\n",
    "fig.show()"
   ]
  },
  {
   "cell_type": "code",
   "execution_count": null,
   "metadata": {},
   "outputs": [],
   "source": []
  }
 ]
}